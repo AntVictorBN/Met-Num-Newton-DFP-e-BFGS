{
  "nbformat": 4,
  "nbformat_minor": 0,
  "metadata": {
    "colab": {
      "provenance": [],
      "authorship_tag": "ABX9TyNS8U6sis2iNXiJPSG3QDUA",
      "include_colab_link": true
    },
    "kernelspec": {
      "name": "python3",
      "display_name": "Python 3"
    },
    "language_info": {
      "name": "python"
    }
  },
  "cells": [
    {
      "cell_type": "markdown",
      "metadata": {
        "id": "view-in-github",
        "colab_type": "text"
      },
      "source": [
        "<a href=\"https://colab.research.google.com/github/AntVictorBN/Met-Num-Newton-DFP-e-BFGS/blob/main/TCC_Met_num.ipynb\" target=\"_parent\"><img src=\"https://colab.research.google.com/assets/colab-badge.svg\" alt=\"Open In Colab\"/></a>"
      ]
    },
    {
      "cell_type": "markdown",
      "source": [
        "### Métodos Numéricos do TCC\n",
        "\n",
        "Na minha dissertação de TCC realizamos um estudo, tanto teórico quanto prático, em relação aos métodos quase-Newton denominados DFP e BFGS. Aqui irei mostrar a parte prática dos meus estudos e os códigos dos algoritmos dos métodos de Newton, DFP e BFGS para uma análise na resolução de dois problemas de otimização irrestrita."
      ],
      "metadata": {
        "id": "yCsZD3wZoyyo"
      }
    },
    {
      "cell_type": "markdown",
      "source": [
        "#### Bibliotecas importantes que usaremos no Problema 1 e no Problema 2\n",
        "\n",
        "- numdifftools - Para calcular o vetor gradiente e a matriz Hessiana da função objetivo.\n",
        "\n",
        "- numpy - Para a criação e manipulação dos vetores e matrizes criadas.\n",
        "\n",
        "- matplotlib - Para a criação dos gráficos para análise.\n",
        "\n",
        "- time - Para calcular o tempo que os algoritmos levaram para chegar ao resultado.\n",
        "\n",
        "- pandas - Para a criação da tabela dos tempos que cada método levou para chegar a solução."
      ],
      "metadata": {
        "id": "9ElmxKDT0YpK"
      }
    },
    {
      "cell_type": "code",
      "source": [
        "import numdifftools as nd\n",
        "import numpy as np\n",
        "import matplotlib.pyplot as plt\n",
        "import time\n",
        "import pandas as pd"
      ],
      "metadata": {
        "id": "SCzHBH7X0YEK"
      },
      "execution_count": null,
      "outputs": []
    },
    {
      "cell_type": "markdown",
      "source": [
        "#### Problema 1\n",
        "\n",
        "Duas estações elétricas bão fornecer energia a uma certa região da forma mais econômica possível. O custo total de operação das duas estações é dada por:\n",
        "\n",
        "$f(x_1,x_2)=0.1+0.001x_1x_2+0.15(x_2)^4-0.25(x_1+x_2-100)$\n",
        "\n",
        "Em que $x_1$ é a energia fornecida pela primeira estação e $x_2$ é a energia fornecida pela segunda estação. Determine os velores de $x_1$ e $x_2$ de forma a minimizar o custo total de operação das duas estações. Utilize como aproximação inicial o ponto $(2,1)^T$."
      ],
      "metadata": {
        "id": "Df5wWdowrN7x"
      }
    },
    {
      "cell_type": "markdown",
      "source": [
        "#### Valores Iniciais\n",
        "\n",
        "- $x_0$ = $(2,1)^T$ - Aproximação inicial.\n",
        "- e = $10^{-8}$ - Erro da aproximação."
      ],
      "metadata": {
        "id": "XapnCv5F1dmX"
      }
    },
    {
      "cell_type": "code",
      "source": [
        "x0 = np.array([2, 1])\n",
        "\n",
        "e = 1e-8"
      ],
      "metadata": {
        "id": "i5mkyVUrrNAx"
      },
      "execution_count": null,
      "outputs": []
    },
    {
      "cell_type": "markdown",
      "source": [
        "#### Função objetivo\n",
        "\n",
        "$f(x_1,x_2)=0.1+0.001x_1x_2+0.15(x_2)^4-0.25(x_1+x_2-100)$"
      ],
      "metadata": {
        "id": "UuNTNJGe2BnG"
      }
    },
    {
      "cell_type": "code",
      "execution_count": null,
      "metadata": {
        "id": "ELKKlXdios4s"
      },
      "outputs": [],
      "source": [
        "def f(x):\n",
        "  return 0.1 + 0.001 * x[0] * x[1] + 0.15 * x[1]**4 + 0.01 * x[0]**4 - 0.25 * (x[0] + x[1] + 100)"
      ]
    },
    {
      "cell_type": "markdown",
      "source": [
        "#### Gradiente da função objetivo -  $∇f(x)$."
      ],
      "metadata": {
        "id": "QglFtg573SzR"
      }
    },
    {
      "cell_type": "code",
      "source": [
        "def Gr(x):\n",
        "  return nd.Gradient(f)(x)"
      ],
      "metadata": {
        "id": "PtbPFNHn3hle"
      },
      "execution_count": null,
      "outputs": []
    },
    {
      "cell_type": "markdown",
      "source": [
        "#### Inversa da matriz Hessiana da função objetivo - $[∇^2 f(x)]^{-1}$."
      ],
      "metadata": {
        "id": "2sr3_Pv93zde"
      }
    },
    {
      "cell_type": "code",
      "source": [
        "def InvH(x):\n",
        "  H = nd.Hessian(f)(x)\n",
        "  return np.linalg.inv(H)"
      ],
      "metadata": {
        "id": "PC0IMmmj44vq"
      },
      "execution_count": null,
      "outputs": []
    },
    {
      "cell_type": "markdown",
      "source": [
        "#### Norma do gradiente de x - $||∇f(x)||$ - para a verificação da condição do ERRO (menor que $10^{-8}$)."
      ],
      "metadata": {
        "id": "552RlZBV5MoY"
      }
    },
    {
      "cell_type": "code",
      "source": [
        "def erro(x):\n",
        "  return np.linalg.norm(Gr(x))"
      ],
      "metadata": {
        "id": "SSpuPYei5evw"
      },
      "execution_count": null,
      "outputs": []
    },
    {
      "cell_type": "markdown",
      "source": [
        "#### Busca de Armijo\n",
        "\n",
        "Aqui definiremos o algortimo da busca de armijo para fazer a buscar do melhor passo na direção de descida."
      ],
      "metadata": {
        "id": "3QDOJs5S5zHC"
      }
    },
    {
      "cell_type": "markdown",
      "source": [
        "______________________________\n",
        "\n",
        "$\\textbf{Algoritmo:}$ Busca de Armijo\n",
        "\n",
        "______________________________\n",
        "\n",
        "$\\textbf{Dados:}$ $x \\in \\mathbb{R}^n$ e $d \\in \\mathbb{R}^n$\n",
        "\n",
        "$t=1$\n",
        "\n",
        "$\\textbf{Para}$ $f(x+td)>f(x)+(0.5) t \\times ∇f(x)^Td$ $\\textbf{faça}$\n",
        "\n",
        "| $\\hspace{0.5cm}$ $t=(0.8)t$\n",
        "\n",
        "$\\textbf{fim}$\n",
        "\n",
        "$\\textbf{Resultado:}$ Valor de t\n",
        "______________________________"
      ],
      "metadata": {
        "id": "6U0VCnAoZpH7"
      }
    },
    {
      "cell_type": "code",
      "source": [
        "def armijo(x,d):\n",
        "  t = 1\n",
        "\n",
        "  while f(x + t*d) > f(x) + 0.5 * t * (Gr(x) @ d):\n",
        "    t = 0.8 * t\n",
        "\n",
        "  return t"
      ],
      "metadata": {
        "id": "PsdOC2It6IvD"
      },
      "execution_count": null,
      "outputs": []
    },
    {
      "cell_type": "markdown",
      "source": [
        "#### Armazenamento de Dados para os Gráficos\n",
        "\n",
        "Abaixo temos criamos algumas listas para armazenar os dados necessários para criarmos os gráficos para a análise gráfica.\n",
        "\n",
        "- Valores de x e y dos pontos encontrados no método de Newton serão armazenados, respectivamente, em XN e YN. Já o número da interação e do valor da norma do gradiente de cada ponto encontrado serão armazenado, respectivamente, em KN e EN.\n",
        "\n",
        "- Valores de x e y dos pontos encontrados no método DFP serão armazenados, respectivamente, em XD e YD. Já o número da interação e do valor da norma do gradiente de cada ponto encontrado serão armazenado, respectivamente, em KD e ED.\n",
        "\n",
        "- Valores de x e y dos pontos encontrados no método BFGS serão armazenados, respectivamente, em XB e YB. Já o número da interação e do valor da norma do gradiente de cada ponto encontrado serão armazenado, respectivamente, em KB e EB."
      ],
      "metadata": {
        "id": "ZjyOmNndK4XF"
      }
    },
    {
      "cell_type": "code",
      "source": [
        "# Método de Newton\n",
        "XN = [2]\n",
        "YN = [1]\n",
        "KN = [0]\n",
        "EN = [erro(x0)]\n",
        "\n",
        "# Método DFP\n",
        "XD = [2]\n",
        "YD = [1]\n",
        "KD = [0]\n",
        "ED = [erro(x0)]\n",
        "\n",
        "#Método BFGS\n",
        "XB = [2]\n",
        "YB = [1]\n",
        "KB = [0]\n",
        "EB = [erro(x0)]"
      ],
      "metadata": {
        "id": "wEPe4fN0Kczg"
      },
      "execution_count": null,
      "outputs": []
    },
    {
      "cell_type": "markdown",
      "source": [
        "### Algoritmos do métodos de Newton, DFP e BFGS para o problema 1.\n",
        "\n",
        "Abaixo temos os algoritmos dos métodos de Newton, DFP e BFGS. Para cada método temos os resultados obtidos na resolução do Problema 1, como o valor x que minimiza a função objetiva, o número de interações necessários pra chegar ao resultado e o valor da norma do gradiente do ponto x encontrado."
      ],
      "metadata": {
        "id": "wkBDrlLGZRc2"
      }
    },
    {
      "cell_type": "markdown",
      "source": [
        "#### Método de Newton"
      ],
      "metadata": {
        "id": "WPtDDH_w6z-b"
      }
    },
    {
      "cell_type": "markdown",
      "source": [
        "______________________________________\n",
        "\n",
        "Algoritmo: Método de Newton\n",
        "\n",
        "______________________________________\n",
        "\n",
        "Dados: $x_0 \\in \\mathbb{R}^n$ e como a tolerância de parada $ϵ>0$.\n",
        "\n",
        "$k = 0$\n",
        "\n",
        "Para $||\\nabla f(x_k)||>ϵ$ Faça\n",
        "\n",
        "| $\\hspace{0.5cm}$ $d_k = - [∇^2 f(x_k)]^{-1} \\times ∇ f(x_k) $\n",
        "\n",
        "| $\\hspace{0.5cm}$ $t_k = t$ tal que $t$ é encontrado pelo Algoritmo de Armijo\n",
        "\n",
        "| $\\hspace{0.5cm}$ $x_{k+1} = x_k + t_k \\times d_k$\n",
        "\n",
        "| $\\hspace{0.5cm}$ $k = k+1$\n",
        "\n",
        "Fim\n",
        "\n",
        "Resulatado: Valor de x\n",
        "\n",
        "______________________________________"
      ],
      "metadata": {
        "id": "BF58IT2VdDIB"
      }
    },
    {
      "cell_type": "code",
      "source": [
        "x = x0\n",
        "k = 0\n",
        "\n",
        "while erro(x) > e:\n",
        "  dk = - InvH(x) @ Gr(x)\n",
        "  tk = armijo(x, dk)\n",
        "  x = x + tk * dk\n",
        "  k = k + 1\n",
        "\n",
        "  KN.append(k)\n",
        "  EN.append(erro(x))\n",
        "\n",
        "  XN.append(x[0])\n",
        "  YN.append(x[1])\n",
        "\n",
        "print('Valor de x:', x)\n",
        "print('Número de iterações:', k)\n",
        "print('valor do erro (norma do gradiente):', erro(x))"
      ],
      "metadata": {
        "id": "r-3lc-RB7NAZ",
        "colab": {
          "base_uri": "https://localhost:8080/"
        },
        "outputId": "1242375a-45a0-4047-c54d-080eec3615dc"
      },
      "execution_count": null,
      "outputs": [
        {
          "output_type": "stream",
          "name": "stdout",
          "text": [
            "Valor de x: [1.84018404 0.7450637 ]\n",
            "Número de iterações: 4\n",
            "valor do erro (norma do gradiente): 8.032610924100155e-10\n"
          ]
        }
      ]
    },
    {
      "cell_type": "markdown",
      "source": [
        "#### Método de DFP"
      ],
      "metadata": {
        "id": "GT755iSzTu2r"
      }
    },
    {
      "cell_type": "markdown",
      "source": [
        "______________________________________\n",
        "\n",
        "Algoritmo: Método DFP\n",
        "\n",
        "______________________________________\n",
        "\n",
        "Dados: $x_0 \\in \\mathbb{R}^n$, $H_0 \\in \\mathbb{R}^{n \\times n}$ e como a tolerância de parada $ϵ>0$.\n",
        "\n",
        "$k = 0$\n",
        "\n",
        "Para $||\\nabla f(x_k)||>ϵ$ Faça\n",
        "\n",
        "| $\\hspace{0.5cm}$ $d_k = - H_k \\times ∇ f(x_k) $\n",
        "\n",
        "| $\\hspace{0.5cm}$ $t_k = t$ tal que $t$ é encontrado pelo Algoritmo de Armijo\n",
        "\n",
        "| $\\hspace{0.5cm}$ $x_{k+1} = x_k + t_k \\times d_k$\n",
        "\n",
        "| $\\hspace{0.5cm}$ $p_k = x_{k+1} - x_k$\n",
        "\n",
        "| $\\hspace{0.5cm}$ $q_k = \\nabla f(x_{k+1}) - ∇ f(x_k)$\n",
        "\n",
        "| $\\hspace{0.5cm}$ determine\n",
        "\n",
        "| $\\hspace{2cm}$ $H_{k+1} = H_k + \\frac{p_k(p_k)^T}{(p_k)^Tq_k} - \\frac{H_kq_k(q_k)^TH_k}{(q_k)^TH_kq_k}$\n",
        "\n",
        "| $\\hspace{0.5cm}$ $k = k+1$\n",
        "\n",
        "Fim\n",
        "\n",
        "Resulatado: Valor de x\n",
        "\n",
        "______________________________________"
      ],
      "metadata": {
        "id": "h1nANjncs-Cg"
      }
    },
    {
      "cell_type": "code",
      "source": [
        "k = 0\n",
        "x = x0\n",
        "Hk = InvH(x)\n",
        "\n",
        "while erro(x) > e:\n",
        "  dk = -Hk @ Gr(x)\n",
        "  tk = armijo(x,dk)\n",
        "\n",
        "  xk = x + tk * dk\n",
        "\n",
        "  pk = np.array([xk - x]).T\n",
        "  qk = np.array([Gr(xk) - Gr(x)]).T\n",
        "\n",
        "  Hk = Hk + (pk @ pk.T) / (pk.T @ qk) - (Hk @ qk @ qk.T @ Hk) / (qk.T @ Hk @ qk)\n",
        "\n",
        "  x = xk\n",
        "  k = k + 1\n",
        "\n",
        "  KD.append(k)\n",
        "  ED.append(erro(x))\n",
        "\n",
        "  XD.append(x[0])\n",
        "  YD.append(x[1])\n",
        "\n",
        "print('Valor de x:', x)\n",
        "print('Número de iterações:', k)\n",
        "print('valor do erro (norma do gradiente)', erro(x))"
      ],
      "metadata": {
        "id": "liwk4iRoT1fH",
        "colab": {
          "base_uri": "https://localhost:8080/"
        },
        "outputId": "d47e0a3f-641b-4182-cbc5-68d1c05e7682"
      },
      "execution_count": null,
      "outputs": [
        {
          "output_type": "stream",
          "name": "stdout",
          "text": [
            "Valor de x: [1.84018404 0.7450637 ]\n",
            "Número de iterações: 8\n",
            "valor do erro (norma do gradiente) 1.9172739085303944e-10\n"
          ]
        }
      ]
    },
    {
      "cell_type": "markdown",
      "source": [
        "#### Método BFGS"
      ],
      "metadata": {
        "id": "YY_vLm0CVESj"
      }
    },
    {
      "cell_type": "markdown",
      "source": [
        "______________________________________\n",
        "\n",
        "Algoritmo: Método BFGS\n",
        "\n",
        "______________________________________\n",
        "\n",
        "Dados: $x_0 \\in \\mathbb{R}^n$, $H_0 \\in \\mathbb{R}^{n \\times n}$ e como a tolerância de parada $ϵ>0$.\n",
        "\n",
        "$k = 0$\n",
        "\n",
        "Para $||\\nabla f(x_k)||>ϵ$ Faça\n",
        "\n",
        "| $\\hspace{0.5cm}$ $d_k = - H_k \\times ∇ f(x_k) $\n",
        "\n",
        "| $\\hspace{0.5cm}$ $t_k = t$ tal que $t$ é encontrado pelo Algoritmo de Armijo\n",
        "\n",
        "| $\\hspace{0.5cm}$ $x_{k+1} = x_k + t_k \\times d_k$\n",
        "\n",
        "| $\\hspace{0.5cm}$ $p_k = x_{k+1} - x_k$\n",
        "\n",
        "| $\\hspace{0.5cm}$ $q_k = \\nabla f(x_{k+1}) - ∇ f(x_k)$\n",
        "\n",
        "| $\\hspace{0.5cm}$ $s_k = \\frac{1}{(p_k)^Tq_k}$\n",
        "\n",
        "| $\\hspace{0.5cm}$ determine\n",
        "\n",
        "| $\\hspace{2cm}$ $H_{k+1} = H_k + [1+s_k((q_k)^TH_kq_k)]s_k(p_k(p_k)^T) - s_k[p_k(q_k)^TH_k + H_kq_k(p_k)^T]$\n",
        "\n",
        "| $\\hspace{0.5cm}$ $k = k+1$\n",
        "\n",
        "Fim\n",
        "\n",
        "Resulatado: Valor de x\n",
        "\n",
        "______________________________________"
      ],
      "metadata": {
        "id": "XRQoiQdCulsY"
      }
    },
    {
      "cell_type": "code",
      "source": [
        "k = 0\n",
        "x = x0\n",
        "Hk = InvH(x)\n",
        "\n",
        "while erro(x) > e:\n",
        "  dk = -Hk @ Gr(x)\n",
        "  tk = armijo(x,dk)\n",
        "\n",
        "  xk = x + tk * dk\n",
        "\n",
        "  pk = np.array([xk - x]).T\n",
        "  qk = np.array([Gr(xk) - Gr(x)]).T\n",
        "  sk = (1 / (pk.T @ qk))\n",
        "\n",
        "  Hk = Hk + ((1+((qk.T @ Hk @ qk) * sk )) * ((pk @ pk.T) * sk)) - ((pk @ qk.T @ Hk) + (Hk @ qk @ pk.T))* sk\n",
        "\n",
        "  x = xk\n",
        "\n",
        "  k = k+1\n",
        "\n",
        "  KB.append(k)\n",
        "  EB.append(erro(x))\n",
        "\n",
        "  XB.append(x[0])\n",
        "  YB.append(x[1])\n",
        "\n",
        "print('Valor de x:', x)\n",
        "print('Número de iterações:', k)\n",
        "print('valor do erro (norma do gradiente)', erro(x))"
      ],
      "metadata": {
        "id": "DlubkyOTVDc-",
        "colab": {
          "base_uri": "https://localhost:8080/"
        },
        "outputId": "6be48923-be03-479f-fddb-c4ab429c25cc"
      },
      "execution_count": null,
      "outputs": [
        {
          "output_type": "stream",
          "name": "stdout",
          "text": [
            "Valor de x: [1.84018404 0.7450637 ]\n",
            "Número de iterações: 8\n",
            "valor do erro (norma do gradiente) 1.114104458476671e-10\n"
          ]
        }
      ]
    },
    {
      "cell_type": "markdown",
      "source": [
        "### Gráfico para análise dos métodos no Problema 1\n",
        "\n",
        "Abaixo temos dois gráficos para uma analise dos métodos em relação ao comportamento e velocidade de convergência de cada método."
      ],
      "metadata": {
        "id": "mDPyNbvigHIh"
      }
    },
    {
      "cell_type": "markdown",
      "source": [
        "#### Gráfico 1\n",
        "- Gráfico das curvas de nível da função objetiva f e os pontos encontrados em cada método."
      ],
      "metadata": {
        "id": "GQZS4VrAgqDf"
      }
    },
    {
      "cell_type": "code",
      "source": [
        "fig, axes = plt.subplots(nrows=1, ncols=3, figsize=(12, 4))\n",
        "\n",
        "X = np.linspace(1.5,2.2,50)\n",
        "Y = np.linspace(0.5,1.1,50)\n",
        "\n",
        "X,Y=np.meshgrid(X,Y)\n",
        "\n",
        "Z = 0.1 + 0.001 * X * Y + 0.15 * (Y ** 4) + 0.01 * (X ** 4) - 0.25 * (X + Y - 100)\n",
        "\n",
        "axes[0].contour(X,Y,Z,20)\n",
        "axes[0].plot(XN,YN, '-->', color='red')\n",
        "axes[0].set_title('Método de Newton', fontsize = 15)\n",
        "axes[0].set_xlabel('x1', fontsize = 10)\n",
        "axes[0].set_ylabel('x2', fontsize = 10)\n",
        "\n",
        "axes[1].contour(X,Y,Z,20)\n",
        "axes[1].plot(XD,YD, '-->', color='blue')\n",
        "axes[1].set_title('Método de DFP', fontsize = 15)\n",
        "axes[1].set_xlabel('x1', fontsize = 10)\n",
        "axes[1].set_ylabel('x2', fontsize = 10)\n",
        "\n",
        "axes[2].contour(X,Y,Z,20)\n",
        "axes[2].plot(XB,YB, '-->', color='green')\n",
        "axes[2].set_title('Método de BFGS', fontsize = 15)\n",
        "axes[2].set_xlabel('x1', fontsize = 10)\n",
        "axes[2].set_ylabel('x2', fontsize = 10)\n",
        "\n",
        "fig.tight_layout()"
      ],
      "metadata": {
        "colab": {
          "base_uri": "https://localhost:8080/",
          "height": 407
        },
        "id": "52rHfDjoTHJH",
        "outputId": "ff7ecc5c-71c6-4090-bac9-f25fec71e680"
      },
      "execution_count": null,
      "outputs": [
        {
          "output_type": "display_data",
          "data": {
            "text/plain": [
              "<Figure size 1200x400 with 3 Axes>"
            ],
            "image/png": "[encoded data removed]"
          },
          "metadata": {}
        }
      ]
    },
    {
      "cell_type": "markdown",
      "source": [
        "#### Gráfico 2\n",
        "\n",
        "- Gráfico da relação entre o número da iteração e da norma do gradiente de cada ponto x encontrado por cada método."
      ],
      "metadata": {
        "id": "9GzXkcpGhDpp"
      }
    },
    {
      "cell_type": "code",
      "source": [
        "fig = plt.figure(figsize=(6, 5))\n",
        "\n",
        "plt.plot(KN,np.log(EN), '--o', color='red')\n",
        "plt.plot(KD,np.log(ED), '--o', color='blue')\n",
        "plt.plot(KB,np.log(EB), '--o', color='green')\n",
        "plt.title('Métodos - Newton, DFP e BFGS', fontsize = 15)\n",
        "plt.xlabel('Número de Iterações', fontsize = 10)\n",
        "plt.ylabel('log(Erro)', fontsize = 10)\n",
        "plt.legend(['Newton','DFP','BFGS'])\n",
        "\n",
        "plt.show()"
      ],
      "metadata": {
        "colab": {
          "base_uri": "https://localhost:8080/",
          "height": 490
        },
        "id": "dTcMGtKcTN2Q",
        "outputId": "14af150e-f93e-46a7-9d93-7bc90e266bfe"
      },
      "execution_count": null,
      "outputs": [
        {
          "output_type": "display_data",
          "data": {
            "text/plain": [
              "<Figure size 600x500 with 1 Axes>"
            ],
            "image/png": "[encoded data removed]"
          },
          "metadata": {}
        }
      ]
    },
    {
      "cell_type": "markdown",
      "source": [
        "### Problema 2\n",
        "\n",
        "Seis estações elétricas vão fornecer energia a uma certa região da forma mais econômica possível. O custo total de operação das seis estações é dado por:\n",
        "\n",
        "$F(x)=0.1+0.001 \\left(\n",
        "\\prod_{i=1}^{6}x_i \\right) +0.15x_1^4+0.01x_2^4+0.05x_3^4+0.17x_4^4+0.05x_5^4+0.09x_6^4-0.25\\left[ \\left( \\sum_{i=1}^{6}x_i \\right) -100 \\right]$\n",
        "\n",
        "Em que $x = (x_1,x_2,x_3,x_4,x_5,x_6)$, sendo cada $x_i$, com $i=1, ..., 6$, a quantidade de energia fornecida por cada estação. Determine o valor de $x$ de forma a minimizar o custo total de operação das seis estações."
      ],
      "metadata": {
        "id": "atGQclBPacBy"
      }
    },
    {
      "cell_type": "markdown",
      "source": [
        "### Valores Inicias\n",
        "\n",
        "- $x_0 = (2,1,2,1,2,1)^T$ - aproximação inicial.\n",
        "- $e = 10^{-8}$ - Erro da aproximação."
      ],
      "metadata": {
        "id": "JT9hiYrBbEv8"
      }
    },
    {
      "cell_type": "code",
      "source": [
        "X0 = np.array([2, 1, 2, 1, 2, 1])\n",
        "\n",
        "e = 1e-8"
      ],
      "metadata": {
        "id": "85iBYuqWbt2g"
      },
      "execution_count": null,
      "outputs": []
    },
    {
      "cell_type": "markdown",
      "source": [
        "### Função objetivo\n",
        "\n",
        "$F(x)=0.1+0.001 \\left(\n",
        "\\prod_{i=1}^{6}x_i \\right) +0.15x_1^4+0.01x_2^4+0.05x_3^4+0.17x_4^4+0.05x_5^4+0.09x_6^4-0.25\\left[ \\left( \\sum_{i=1}^{6}x_i \\right) -100 \\right]$"
      ],
      "metadata": {
        "id": "rcjxJbWUbjJN"
      }
    },
    {
      "cell_type": "code",
      "source": [
        "def F(x):\n",
        "    return 0.1+0.001*(np.prod(x))+0.15*(x[0]**4)+0.01*(x[1]**4)+0.05*(x[2]**4)+0.17*(x[3]**4)+0.05*(x[4]**4)+0.09*(x[5]**4)-0.25*(sum(x)-100)"
      ],
      "metadata": {
        "id": "AVRaxWcEcElK"
      },
      "execution_count": null,
      "outputs": []
    },
    {
      "cell_type": "markdown",
      "source": [
        "### Gradiente da função objetivo - $\\nabla F(x)$."
      ],
      "metadata": {
        "id": "z1zFZ2xfbxJX"
      }
    },
    {
      "cell_type": "code",
      "source": [
        "def GrF(x):\n",
        "    return nd.Gradient(F)(x)"
      ],
      "metadata": {
        "id": "LjnIaff8cIfr"
      },
      "execution_count": null,
      "outputs": []
    },
    {
      "cell_type": "markdown",
      "source": [
        "### Inversa da Matriz Hessiana da função objetivo - $[∇^2F(x)]^{-1}$."
      ],
      "metadata": {
        "id": "ld2SZOk5cApj"
      }
    },
    {
      "cell_type": "code",
      "source": [
        "def InvHF(x):\n",
        "    H = nd.Hessian(F)(x)\n",
        "    return np.linalg.inv(H)"
      ],
      "metadata": {
        "id": "2zohRnuVcRog"
      },
      "execution_count": null,
      "outputs": []
    },
    {
      "cell_type": "markdown",
      "source": [
        "### Norma do gradiente de x- $||∇F(x)||$ - Para a verificação da condição do ERRO (menor que $10^{-8}$)."
      ],
      "metadata": {
        "id": "2MP6FA7hcOg_"
      }
    },
    {
      "cell_type": "code",
      "source": [
        "def erroF(x):\n",
        "  return np.linalg.norm(GrF(x))"
      ],
      "metadata": {
        "id": "n-sSLdHCfU9y"
      },
      "execution_count": null,
      "outputs": []
    },
    {
      "cell_type": "markdown",
      "source": [
        "### Busca de Armijo para a função objetivo $F(x)$\n",
        "\n",
        "Aqui definiremos o algoritmo da busca de Armijo para fazer a buscar do passo na direção de descida."
      ],
      "metadata": {
        "id": "gwxd8AFqcvsm"
      }
    },
    {
      "cell_type": "code",
      "source": [
        "def armijoF(x,d):\n",
        "  t = 1\n",
        "\n",
        "  while F(x + t*d) > F(x) + 0.5 * t * (GrF(x) @ d):\n",
        "    t = 0.8 * t\n",
        "\n",
        "  return t"
      ],
      "metadata": {
        "id": "XZrzYIyggZg8"
      },
      "execution_count": null,
      "outputs": []
    },
    {
      "cell_type": "markdown",
      "source": [
        "#### Armazenamento de Dados para os Gráficos do Problema 2\n",
        "\n",
        "Abaixo temos criamos algumas listas para armazenar os dados necessários para criarmos os gráficos para a análise gráfica e de tempo.\n",
        "\n",
        "- Valor do número da interação e da norma do gradiente de cada ponto encontrado no método de Newton serão armazenados, respectivamente, em KNF e ENF. Já o tempo, em segundos, e número de iterações que o método levou para chegar a solução serão armazenados, respectivamente, em Tn e kn.\n",
        "\n",
        "- Valor do número da interação e da norma do gradiente de cada ponto encontrado no método DFP serão armazenados, respectivamente, em KDF e EDF. Já o tempo, em segundos, e número de iterações que o método levou para chegar a solução serão armazenados, respectivamente, em Td e kd.\n",
        "\n",
        "- Valor do número da interação e da norma do gradiente de cada ponto encontrado no método BFGS serão armazenados, respectivamente, em KBF e EBF. Já o tempo, em segundos, e número de iterações que o método levou para chegar a solução serão armazenados, respectivamente, em Tb e kb."
      ],
      "metadata": {
        "id": "mOlCW3GTdVrM"
      }
    },
    {
      "cell_type": "code",
      "source": [
        "# Método de Newton\n",
        "KNF = [0]\n",
        "ENF = [erroF(X0)]\n",
        "Tn = 0\n",
        "Kn = 0\n",
        "\n",
        "# Método DFP\n",
        "KDF = [0]\n",
        "EDF = [erroF(X0)]\n",
        "Td = 0\n",
        "Kd = 0\n",
        "\n",
        "#Método BFGS\n",
        "KBF = [0]\n",
        "EBF = [erroF(X0)]\n",
        "Tb = 0\n",
        "Kb = 0"
      ],
      "metadata": {
        "id": "lcdnUbZFcW_v"
      },
      "execution_count": null,
      "outputs": []
    },
    {
      "cell_type": "markdown",
      "source": [
        "### Algoritmos do métodos de Newton, DFP e BFGS para o problema 2.\n",
        "\n",
        "Abaixo temos os algoritmos dos métodos de Newton, DFP e BFGS. Para cada método temos os resultados obtidos na resolução do Problema 1, como o valor x que minimiza a função objetiva, o número de interações necessários pra chegar ao resultado e o valor da norma do gradiente do ponto x encontrado."
      ],
      "metadata": {
        "id": "K5OivHfQfMyS"
      }
    },
    {
      "cell_type": "markdown",
      "source": [
        "### Método de Newton"
      ],
      "metadata": {
        "id": "AQz8NHqofYMw"
      }
    },
    {
      "cell_type": "code",
      "source": [
        "InicioN = time.time() # Iniciar a contagem de tempo\n",
        "\n",
        "k = 0\n",
        "x = X0\n",
        "\n",
        "while erroF(x) > e:\n",
        "  dk = - InvHF(x) @ GrF(x)\n",
        "  tk = armijoF(x, dk)\n",
        "  x = x + tk * dk\n",
        "  k = k + 1\n",
        "\n",
        "  KNF.append(k)\n",
        "  ENF.append(erroF(x))\n",
        "\n",
        "FimN = time.time() # Parar a contagem de tempo\n",
        "\n",
        "Tn = (FimN-InicioN)\n",
        "Kn = (k)\n",
        "\n",
        "print('Valor de x:', x)\n",
        "print('Número de iterações:', k)\n",
        "print('valor do erro (norma do gradiente):', erroF(x))"
      ],
      "metadata": {
        "colab": {
          "base_uri": "https://localhost:8080/"
        },
        "id": "l1qgcQGpc2eB",
        "outputId": "2e4106d3-8dfd-4ac5-e656-c42c6f238d92"
      },
      "execution_count": null,
      "outputs": [
        {
          "output_type": "stream",
          "name": "stdout",
          "text": [
            "Valor de x: [0.7455569  1.84067473 1.07587494 0.7150363  1.07587494 0.88420567]\n",
            "Número de iterações: 6\n",
            "valor do erro (norma do gradiente): 3.641294838119018e-10\n"
          ]
        }
      ]
    },
    {
      "cell_type": "markdown",
      "source": [
        "### Método DFP"
      ],
      "metadata": {
        "id": "7cCha3FHfcb2"
      }
    },
    {
      "cell_type": "code",
      "source": [
        "InicioD = time.time() # Iniciar a contagem de tempo\n",
        "\n",
        "k = 0\n",
        "x = X0\n",
        "Hk = InvHF(x)\n",
        "\n",
        "while erroF(x) > e:\n",
        "  dk = -Hk @ GrF(x)\n",
        "  tk = armijoF(x,dk)\n",
        "\n",
        "  xk = x + tk * dk\n",
        "\n",
        "  pk = np.array([xk - x]).T\n",
        "  qk = np.array([GrF(xk) - GrF(x)]).T\n",
        "\n",
        "  Hk = Hk + (pk @ pk.T) / (pk.T @ qk) - (Hk @ qk @ qk.T @ Hk) / (qk.T @ Hk @ qk)\n",
        "\n",
        "  x = xk\n",
        "  k = k + 1\n",
        "\n",
        "  KDF.append(k)\n",
        "  EDF.append(erroF(x))\n",
        "\n",
        "FimD = time.time() # Parar a contagem de tempo\n",
        "\n",
        "Td = (FimD-InicioD)\n",
        "Kd = (k)\n",
        "\n",
        "print('Valor de x:', x)\n",
        "print('Número de iterações:', k)\n",
        "print('valor do erro (norma do gradiente):', erroF(x))"
      ],
      "metadata": {
        "colab": {
          "base_uri": "https://localhost:8080/"
        },
        "id": "de5pnb7HdIzK",
        "outputId": "ad3382f9-51e9-4f16-dbfc-36d0bfd0af56"
      },
      "execution_count": null,
      "outputs": [
        {
          "output_type": "stream",
          "name": "stdout",
          "text": [
            "Valor de x: [0.74555689 1.84067472 1.07587494 0.71503631 1.07587494 0.88420567]\n",
            "Número de iterações: 19\n",
            "valor do erro (norma do gradiente): 8.873003240379469e-09\n"
          ]
        }
      ]
    },
    {
      "cell_type": "markdown",
      "source": [
        "### Método BFGS"
      ],
      "metadata": {
        "id": "FidgFzbxfgil"
      }
    },
    {
      "cell_type": "code",
      "source": [
        "InicioB = time.time() # Iniciar a contagem de tempo\n",
        "\n",
        "k = 0\n",
        "x = X0\n",
        "Hk = InvHF(x)\n",
        "\n",
        "while erroF(x) > e:\n",
        "  dk = -Hk @ GrF(x)\n",
        "  tk = armijoF(x,dk)\n",
        "\n",
        "  xk = x + tk * dk\n",
        "\n",
        "  pk = np.array([xk - x]).T\n",
        "  qk = np.array([GrF(xk) - GrF(x)]).T\n",
        "  sk = (1 / (pk.T @ qk))\n",
        "\n",
        "  Hk = Hk + ((1+((qk.T @ Hk @ qk) * sk )) * ((pk @ pk.T) * sk)) - ((pk @ qk.T @ Hk) + (Hk @ qk @ pk.T))* sk\n",
        "\n",
        "  x = xk\n",
        "\n",
        "  k = k+1\n",
        "\n",
        "  KBF.append(k)\n",
        "  EBF.append(erroF(x))\n",
        "\n",
        "FimB = time.time() # Parar a contagem de tempo\n",
        "\n",
        "Tb = (FimB-InicioB)\n",
        "Kb = (k)\n",
        "\n",
        "print('Valor de x:', x)\n",
        "print('Número de iterações:', k)\n",
        "print('valor do erro (norma do gradiente):', erroF(x))"
      ],
      "metadata": {
        "colab": {
          "base_uri": "https://localhost:8080/"
        },
        "id": "QLaQaxtXdZK_",
        "outputId": "9c60c9c5-f87b-4813-d7f8-4802ced8e1ed"
      },
      "execution_count": null,
      "outputs": [
        {
          "output_type": "stream",
          "name": "stdout",
          "text": [
            "Valor de x: [0.74555689 1.84067473 1.07587494 0.71503631 1.07587494 0.88420567]\n",
            "Número de iterações: 17\n",
            "valor do erro (norma do gradiente): 2.6444439635490344e-09\n"
          ]
        }
      ]
    },
    {
      "cell_type": "markdown",
      "source": [
        "### Gráfico e Tabela para análise da velocidade de convergência e do tempo para a resolução.\n"
      ],
      "metadata": {
        "id": "veBqmh5yWMgo"
      }
    },
    {
      "cell_type": "markdown",
      "source": [
        "#### Gráfico\n",
        "\n",
        "- Gráfico da relação entre o número da iteração e da norma do gradiente de cada ponto x encontrado por cada método."
      ],
      "metadata": {
        "id": "BYmOxRYFWizi"
      }
    },
    {
      "cell_type": "code",
      "source": [
        "fig = plt.figure(figsize=(6, 5))\n",
        "\n",
        "plt.plot(KNF,np.log(ENF), '--o', color='red')\n",
        "plt.plot(KDF,np.log(EDF), '--o', color='blue')\n",
        "plt.plot(KBF,np.log(EBF), '--o', color='green')\n",
        "plt.title('Métodos - Newton, DFP e BFGS', fontsize = 15)\n",
        "plt.xlabel('Número de Iterações', fontsize = 10)\n",
        "plt.ylabel('log(Erro)', fontsize = 10)\n",
        "plt.xticks(np.arange(0,22,2))\n",
        "plt.legend(['Newton','DFP','BFGS'])\n",
        "\n",
        "plt.show()"
      ],
      "metadata": {
        "colab": {
          "base_uri": "https://localhost:8080/",
          "height": 490
        },
        "id": "HTSpX7LHUMpo",
        "outputId": "afee7804-3dcf-48e6-905f-153b78a68d26"
      },
      "execution_count": null,
      "outputs": [
        {
          "output_type": "display_data",
          "data": {
            "text/plain": [
              "<Figure size 600x500 with 1 Axes>"
            ],
            "image/png": "[encoded data removed]"
          },
          "metadata": {}
        }
      ]
    },
    {
      "cell_type": "markdown",
      "source": [
        "#### Tabela\n",
        "\n",
        "- Tabela contendo as informações do tempo, em segundo, que cada método levou para chegar a solução, o número de iterações e o tempo médio que cada um teve por iteração."
      ],
      "metadata": {
        "id": "sV0fWssvW6V0"
      }
    },
    {
      "cell_type": "code",
      "source": [
        "dados = [['Newton',Tn,Kn,Tn/Kn],['DFP',Td,Kd,Td/Kd],['BFGS',Tb,Kb,Tb/Kb]]\n",
        "colunas = ['métodos','Tempo para a resolução','Nº Iteração','Tempo Médio por iteração']\n",
        "\n",
        "tabela = pd.DataFrame(dados,columns=colunas)\n",
        "display(tabela)"
      ],
      "metadata": {
        "colab": {
          "base_uri": "https://localhost:8080/",
          "height": 143
        },
        "id": "OM_DBdn0RRgT",
        "outputId": "1472d844-0413-4971-c7ee-e654df743085"
      },
      "execution_count": null,
      "outputs": [
        {
          "output_type": "display_data",
          "data": {
            "text/plain": [
              "  métodos  Tempo para a resolução  Nº Iteração  Tempo Médio por iteração\n",
              "0  Newton                0.612260            6                  0.102043\n",
              "1     DFP                1.206579           19                  0.063504\n",
              "2    BFGS                1.288450           17                  0.075791"
            ],
            "text/html": [
              "\n",
              "  <div id=\"df-3c67c447-7b31-40a7-b086-4a5c61d322a5\" class=\"colab-df-container\">\n",
              "    <div>\n",
              "<style scoped>\n",
              "    .dataframe tbody tr th:only-of-type {\n",
              "        vertical-align: middle;\n",
              "    }\n",
              "\n",
              "    .dataframe tbody tr th {\n",
              "        vertical-align: top;\n",
              "    }\n",
              "\n",
              "    .dataframe thead th {\n",
              "        text-align: right;\n",
              "    }\n",
              "</style>\n",
              "<table border=\"1\" class=\"dataframe\">\n",
              "  <thead>\n",
              "    <tr style=\"text-align: right;\">\n",
              "      <th></th>\n",
              "      <th>métodos</th>\n",
              "      <th>Tempo para a resolução</th>\n",
              "      <th>Nº Iteração</th>\n",
              "      <th>Tempo Médio por iteração</th>\n",
              "    </tr>\n",
              "  </thead>\n",
              "  <tbody>\n",
              "    <tr>\n",
              "      <th>0</th>\n",
              "      <td>Newton</td>\n",
              "      <td>0.612260</td>\n",
              "      <td>6</td>\n",
              "      <td>0.102043</td>\n",
              "    </tr>\n",
              "    <tr>\n",
              "      <th>1</th>\n",
              "      <td>DFP</td>\n",
              "      <td>1.206579</td>\n",
              "      <td>19</td>\n",
              "      <td>0.063504</td>\n",
              "    </tr>\n",
              "    <tr>\n",
              "      <th>2</th>\n",
              "      <td>BFGS</td>\n",
              "      <td>1.288450</td>\n",
              "      <td>17</td>\n",
              "      <td>0.075791</td>\n",
              "    </tr>\n",
              "  </tbody>\n",
              "</table>\n",
              "</div>\n",
              "    <div class=\"colab-df-buttons\">\n",
              "\n",
              "  <div class=\"colab-df-container\">\n",
              "    <button class=\"colab-df-convert\" onclick=\"convertToInteractive('df-3c67c447-7b31-40a7-b086-4a5c61d322a5')\"\n",
              "            title=\"Convert this dataframe to an interactive table.\"\n",
              "            style=\"display:none;\">\n",
              "\n",
              "  <svg xmlns=\"http://www.w3.org/2000/svg\" height=\"24px\" viewBox=\"0 -960 960 960\">\n",
              "    <path d=\"M120-120v-720h720v720H120Zm60-500h600v-160H180v160Zm220 220h160v-160H400v160Zm0 220h160v-160H400v160ZM180-400h160v-160H180v160Zm440 0h160v-160H620v160ZM180-180h160v-160H180v160Zm440 0h160v-160H620v160Z\"/>\n",
              "  </svg>\n",
              "    </button>\n",
              "\n",
              "  <style>\n",
              "    .colab-df-container {\n",
              "      display:flex;\n",
              "      gap: 12px;\n",
              "    }\n",
              "\n",
              "    .colab-df-convert {\n",
              "      background-color: #E8F0FE;\n",
              "      border: none;\n",
              "      border-radius: 50%;\n",
              "      cursor: pointer;\n",
              "      display: none;\n",
              "      fill: #1967D2;\n",
              "      height: 32px;\n",
              "      padding: 0 0 0 0;\n",
              "      width: 32px;\n",
              "    }\n",
              "\n",
              "    .colab-df-convert:hover {\n",
              "      background-color: #E2EBFA;\n",
              "      box-shadow: 0px 1px 2px rgba(60, 64, 67, 0.3), 0px 1px 3px 1px rgba(60, 64, 67, 0.15);\n",
              "      fill: #174EA6;\n",
              "    }\n",
              "\n",
              "    .colab-df-buttons div {\n",
              "      margin-bottom: 4px;\n",
              "    }\n",
              "\n",
              "    [theme=dark] .colab-df-convert {\n",
              "      background-color: #3B4455;\n",
              "      fill: #D2E3FC;\n",
              "    }\n",
              "\n",
              "    [theme=dark] .colab-df-convert:hover {\n",
              "      background-color: #434B5C;\n",
              "      box-shadow: 0px 1px 3px 1px rgba(0, 0, 0, 0.15);\n",
              "      filter: drop-shadow(0px 1px 2px rgba(0, 0, 0, 0.3));\n",
              "      fill: #FFFFFF;\n",
              "    }\n",
              "  </style>\n",
              "\n",
              "    <script>\n",
              "      const buttonEl =\n",
              "        document.querySelector('#df-3c67c447-7b31-40a7-b086-4a5c61d322a5 button.colab-df-convert');\n",
              "      buttonEl.style.display =\n",
              "        google.colab.kernel.accessAllowed ? 'block' : 'none';\n",
              "\n",
              "      async function convertToInteractive(key) {\n",
              "        const element = document.querySelector('#df-3c67c447-7b31-40a7-b086-4a5c61d322a5');\n",
              "        const dataTable =\n",
              "          await google.colab.kernel.invokeFunction('convertToInteractive',\n",
              "                                                    [key], {});\n",
              "        if (!dataTable) return;\n",
              "\n",
              "        const docLinkHtml = 'Like what you see? Visit the ' +\n",
              "          '<a target=\"_blank\" href=https://colab.research.google.com/notebooks/data_table.ipynb>data table notebook</a>'\n",
              "          + ' to learn more about interactive tables.';\n",
              "        element.innerHTML = '';\n",
              "        dataTable['output_type'] = 'display_data';\n",
              "        await google.colab.output.renderOutput(dataTable, element);\n",
              "        const docLink = document.createElement('div');\n",
              "        docLink.innerHTML = docLinkHtml;\n",
              "        element.appendChild(docLink);\n",
              "      }\n",
              "    </script>\n",
              "  </div>\n",
              "\n",
              "    </div>\n",
              "  </div>\n"
            ]
          },
          "metadata": {}
        }
      ]
    }
  ]
}